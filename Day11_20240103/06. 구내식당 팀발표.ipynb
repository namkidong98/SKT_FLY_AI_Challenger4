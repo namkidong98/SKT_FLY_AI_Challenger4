{
 "cells": [
  {
   "cell_type": "code",
   "execution_count": 1,
   "id": "1173c7da-986a-4e0c-84a0-956f9cba7c42",
   "metadata": {},
   "outputs": [],
   "source": [
    "import pandas as pd\n",
    "import numpy as np\n",
    "import matplotlib.pyplot as plt\n",
    "from tqdm import tqdm\n",
    "from sklearn.preprocessing import LabelEncoder\n",
    "from sklearn.model_selection import train_test_split\n",
    "from sklearn.metrics import mean_absolute_error\n",
    "from lightgbm import LGBMRegressor\n",
    "\n",
    "from gensim.models import Word2Vec\n",
    "from gensim.models import KeyedVectors\n",
    "from sklearn.manifold import TSNE\n",
    "from sklearn.decomposition import PCA"
   ]
  },
  {
   "cell_type": "code",
   "execution_count": 2,
   "id": "76ac8473-9059-4bad-a556-2f22ef8dab97",
   "metadata": {},
   "outputs": [],
   "source": [
    "# HYPER PARAMETERS\n",
    "\n",
    "class CFG:\n",
    "    emb_dim = 200\n",
    "\n",
    "args = CFG"
   ]
  },
  {
   "cell_type": "code",
   "execution_count": 3,
   "id": "84dbfdc4-d430-4818-8e27-bc385a7b7ad7",
   "metadata": {},
   "outputs": [],
   "source": [
    "df_train = pd.read_csv('./train.csv')\n",
    "df_test = pd.read_csv('./test.csv')"
   ]
  },
  {
   "cell_type": "markdown",
   "id": "21bbf2ab-7133-4a70-ab30-8186765dd3fe",
   "metadata": {},
   "source": [
    "# Word Embedding"
   ]
  },
  {
   "cell_type": "code",
   "execution_count": 4,
   "id": "549f0765-e9c5-45f4-b498-ed170015acc6",
   "metadata": {},
   "outputs": [],
   "source": [
    "df_all = pd.concat([df_train, df_test])"
   ]
  },
  {
   "cell_type": "code",
   "execution_count": 5,
   "id": "d7568872-b590-460b-88ed-5edd14c06ecb",
   "metadata": {},
   "outputs": [],
   "source": [
    "# Basic text preprocessing\n",
    "\n",
    "def split_process(x, q):\n",
    "    x_ = []\n",
    "    x = x.split(' ')\n",
    "    for i in x:\n",
    "        if '(' in i and ':' in i and ')' in i:\n",
    "            continue\n",
    "        if '/' in i:\n",
    "            x_.extend(i.split('/'))\n",
    "        else:\n",
    "            x_.append(i)\n",
    "    x_ = list(set(x_))\n",
    "    x_.remove('')\n",
    "    return x_"
   ]
  },
  {
   "cell_type": "code",
   "execution_count": 6,
   "id": "b11d4ba3-f048-42ca-97d4-c8199b24b549",
   "metadata": {},
   "outputs": [],
   "source": [
    "# Get all combinations for training w2v (train + test)\n",
    "\n",
    "food_combinations = []\n",
    "for i in ['조식메뉴', '중식메뉴', '석식메뉴']:\n",
    "    food_combinations += df_all[i].apply(lambda x: split_process(x, i)).to_list()"
   ]
  },
  {
   "cell_type": "code",
   "execution_count": 7,
   "id": "7e3f38f1-8f9f-4c0f-a03b-f66b4998f375",
   "metadata": {},
   "outputs": [
    {
     "name": "stdout",
     "output_type": "stream",
     "text": [
      "Model loaded\n"
     ]
    }
   ],
   "source": [
    "# Train or load w2v model\n",
    "\n",
    "TRAIN_W2V = True\n",
    "try:\n",
    "    model = Word2Vec.load('food_embedding.model')\n",
    "    print(\"Model loaded\")\n",
    "except:\n",
    "    if TRAIN_W2V:\n",
    "        print(\"Training w2v\")\n",
    "        model = Word2Vec(sentences=food_combinations, vector_size=args.emb_dim, window=7, min_count=0, workers=4, sg=0, epochs=5000)\n",
    "        model.save('food_embedding.model')\n",
    "    else:\n",
    "        print(\"Model loading failed. Do not train.\")"
   ]
  },
  {
   "cell_type": "code",
   "execution_count": 8,
   "id": "d1e2894f-814b-4fdd-9138-1929564cbe6f",
   "metadata": {},
   "outputs": [
    {
     "data": {
      "text/plain": [
       "[('차돌박이찌개', 0.5788873434066772),\n",
       " ('오징어국', 0.5403120517730713),\n",
       " ('고추장찌개', 0.5396184921264648),\n",
       " ('감자국', 0.5392025113105774),\n",
       " ('민물새우찌개', 0.5303929448127747),\n",
       " ('얼갈이국', 0.5229366421699524),\n",
       " ('대구매운탕', 0.522230327129364),\n",
       " ('김치두부국', 0.5169321894645691),\n",
       " ('소고기무국', 0.5046370029449463),\n",
       " ('북어해장국', 0.5005111694335938)]"
      ]
     },
     "execution_count": 8,
     "metadata": {},
     "output_type": "execute_result"
    }
   ],
   "source": [
    "# w2v demo\n",
    "model.wv.most_similar('된장찌개')"
   ]
  },
  {
   "cell_type": "markdown",
   "id": "1d7fbff8-5a7e-44e1-be9d-56e2d080ffe1",
   "metadata": {},
   "source": [
    "# Preprocess"
   ]
  },
  {
   "cell_type": "code",
   "execution_count": 9,
   "id": "bb44b24b-32bb-40ee-af0c-c803076e8a4c",
   "metadata": {},
   "outputs": [],
   "source": [
    "def get_food_embedding(x):\n",
    "    x_ = []\n",
    "    x = x.split(' ')\n",
    "    for i in x:\n",
    "        if '(' in i and ':' in i and ')' in i:\n",
    "            continue\n",
    "        if '/' in i:\n",
    "            x_.extend(i.split('/'))\n",
    "        else:\n",
    "            x_.append(i)\n",
    "    x_ = list(set(x_))\n",
    "    x_.remove('')\n",
    "    vec_ = np.zeros(args.emb_dim)\n",
    "    for i in x_:\n",
    "        vec = model.wv.get_vector(i)\n",
    "        vec_ += vec\n",
    "    vec_ /= len(x_)\n",
    "    return vec_\n",
    "\n",
    "def preprocess_date(df, is_train):\n",
    "    if is_train:\n",
    "        df = df[df['석식계'] > 0]\n",
    "        \n",
    "    df['일자'] = pd.to_datetime(df['일자'], format=\"%Y-%m-%d\")\n",
    "    df['year'] = df['일자'].dt.year\n",
    "    df['month'] = df['일자'].dt.month\n",
    "    df['day'] = df['일자'].dt.day\n",
    "    \n",
    "    day_encoder = LabelEncoder()\n",
    "    df['요일'] = day_encoder.fit_transform(df['요일'])\n",
    "    df['remains'] = df['본사정원수'] - df['본사휴가자수'] - df['본사출장자수'] - df['현본사소속재택근무자수']\n",
    "    df['dinner'] = df['석식메뉴'].apply(lambda x: get_food_embedding(x))\n",
    "    \n",
    "    if is_train:\n",
    "        y = df['석식계']\n",
    "    else:\n",
    "        y = 0\n",
    "    \n",
    "    df.drop(['일자','조식메뉴', '중식메뉴', '석식메뉴', '본사정원수', '본사휴가자수', '본사출장자수', '현본사소속재택근무자수', '본사시간외근무명령서승인건수'], axis=1, inplace=True)\n",
    "    if is_train:\n",
    "        df.drop(['중식계', '석식계'], axis=1, inplace=True)\n",
    "    \n",
    "    common = df.iloc[:, :4].to_numpy()\n",
    "    dinner = np.expand_dims(np.array(df.iloc[:, 4].to_numpy().tolist()), axis=1)\n",
    "    common = np.concatenate((df.iloc[:, :4].to_numpy(), dinner), axis=1)\n",
    "    \n",
    "    return common, y\n"
   ]
  },
  {
   "cell_type": "code",
   "execution_count": 10,
   "id": "a0d5f419",
   "metadata": {},
   "outputs": [
    {
     "name": "stderr",
     "output_type": "stream",
     "text": [
      "C:\\Users\\sk_ai\\AppData\\Local\\Temp\\ipykernel_20224\\2314102670.py:24: SettingWithCopyWarning: \n",
      "A value is trying to be set on a copy of a slice from a DataFrame.\n",
      "Try using .loc[row_indexer,col_indexer] = value instead\n",
      "\n",
      "See the caveats in the documentation: https://pandas.pydata.org/pandas-docs/stable/user_guide/indexing.html#returning-a-view-versus-a-copy\n",
      "  df['일자'] = pd.to_datetime(df['일자'], format=\"%Y-%m-%d\")\n",
      "C:\\Users\\sk_ai\\AppData\\Local\\Temp\\ipykernel_20224\\2314102670.py:25: SettingWithCopyWarning: \n",
      "A value is trying to be set on a copy of a slice from a DataFrame.\n",
      "Try using .loc[row_indexer,col_indexer] = value instead\n",
      "\n",
      "See the caveats in the documentation: https://pandas.pydata.org/pandas-docs/stable/user_guide/indexing.html#returning-a-view-versus-a-copy\n",
      "  df['year'] = df['일자'].dt.year\n",
      "C:\\Users\\sk_ai\\AppData\\Local\\Temp\\ipykernel_20224\\2314102670.py:26: SettingWithCopyWarning: \n",
      "A value is trying to be set on a copy of a slice from a DataFrame.\n",
      "Try using .loc[row_indexer,col_indexer] = value instead\n",
      "\n",
      "See the caveats in the documentation: https://pandas.pydata.org/pandas-docs/stable/user_guide/indexing.html#returning-a-view-versus-a-copy\n",
      "  df['month'] = df['일자'].dt.month\n",
      "C:\\Users\\sk_ai\\AppData\\Local\\Temp\\ipykernel_20224\\2314102670.py:27: SettingWithCopyWarning: \n",
      "A value is trying to be set on a copy of a slice from a DataFrame.\n",
      "Try using .loc[row_indexer,col_indexer] = value instead\n",
      "\n",
      "See the caveats in the documentation: https://pandas.pydata.org/pandas-docs/stable/user_guide/indexing.html#returning-a-view-versus-a-copy\n",
      "  df['day'] = df['일자'].dt.day\n",
      "C:\\Users\\sk_ai\\AppData\\Local\\Temp\\ipykernel_20224\\2314102670.py:30: SettingWithCopyWarning: \n",
      "A value is trying to be set on a copy of a slice from a DataFrame.\n",
      "Try using .loc[row_indexer,col_indexer] = value instead\n",
      "\n",
      "See the caveats in the documentation: https://pandas.pydata.org/pandas-docs/stable/user_guide/indexing.html#returning-a-view-versus-a-copy\n",
      "  df['요일'] = day_encoder.fit_transform(df['요일'])\n",
      "C:\\Users\\sk_ai\\AppData\\Local\\Temp\\ipykernel_20224\\2314102670.py:31: SettingWithCopyWarning: \n",
      "A value is trying to be set on a copy of a slice from a DataFrame.\n",
      "Try using .loc[row_indexer,col_indexer] = value instead\n",
      "\n",
      "See the caveats in the documentation: https://pandas.pydata.org/pandas-docs/stable/user_guide/indexing.html#returning-a-view-versus-a-copy\n",
      "  df['remains'] = df['본사정원수'] - df['본사휴가자수'] - df['본사출장자수'] - df['현본사소속재택근무자수']\n",
      "C:\\Users\\sk_ai\\AppData\\Local\\Temp\\ipykernel_20224\\2314102670.py:32: SettingWithCopyWarning: \n",
      "A value is trying to be set on a copy of a slice from a DataFrame.\n",
      "Try using .loc[row_indexer,col_indexer] = value instead\n",
      "\n",
      "See the caveats in the documentation: https://pandas.pydata.org/pandas-docs/stable/user_guide/indexing.html#returning-a-view-versus-a-copy\n",
      "  df['dinner'] = df['석식메뉴'].apply(lambda x: get_food_embedding(x))\n",
      "C:\\Users\\sk_ai\\AppData\\Local\\Temp\\ipykernel_20224\\2314102670.py:39: SettingWithCopyWarning: \n",
      "A value is trying to be set on a copy of a slice from a DataFrame\n",
      "\n",
      "See the caveats in the documentation: https://pandas.pydata.org/pandas-docs/stable/user_guide/indexing.html#returning-a-view-versus-a-copy\n",
      "  df.drop(['일자','조식메뉴', '중식메뉴', '석식메뉴', '본사정원수', '본사휴가자수', '본사출장자수', '현본사소속재택근무자수', '본사시간외근무명령서승인건수'], axis=1, inplace=True)\n",
      "C:\\Users\\sk_ai\\AppData\\Local\\Temp\\ipykernel_20224\\2314102670.py:41: SettingWithCopyWarning: \n",
      "A value is trying to be set on a copy of a slice from a DataFrame\n",
      "\n",
      "See the caveats in the documentation: https://pandas.pydata.org/pandas-docs/stable/user_guide/indexing.html#returning-a-view-versus-a-copy\n",
      "  df.drop(['중식계', '석식계'], axis=1, inplace=True)\n"
     ]
    }
   ],
   "source": [
    "x_train, y_train = preprocess_date(df_train, True)\n",
    "x_test, _ = preprocess_date(df_test, False)"
   ]
  },
  {
   "cell_type": "code",
   "execution_count": 11,
   "id": "48e28ff0-d055-42af-8d37-2260b64e8ba8",
   "metadata": {},
   "outputs": [],
   "source": [
    "input_train, input_val, target_train, target_val = train_test_split(x_train, y_train, test_size=0.1, random_state=42)"
   ]
  },
  {
   "cell_type": "markdown",
   "id": "2ec5065e-bd59-43f5-a02e-c1a600f27f22",
   "metadata": {},
   "source": [
    "# Modeling"
   ]
  },
  {
   "cell_type": "code",
   "execution_count": 12,
   "id": "6aa6d118-3817-48ac-8003-c0be2f0a5199",
   "metadata": {},
   "outputs": [
    {
     "name": "stdout",
     "output_type": "stream",
     "text": [
      "[LightGBM] [Info] Auto-choosing row-wise multi-threading, the overhead of testing was 0.000042 seconds.\n",
      "You can set `force_row_wise=true` to remove the overhead.\n",
      "And if memory is not enough, you can set `force_col_wise=true`.\n",
      "[LightGBM] [Info] Total Bins 312\n",
      "[LightGBM] [Info] Number of data points in the train set: 1045, number of used features: 5\n",
      "[LightGBM] [Info] Start training from score 480.212440\n",
      "dinner mae:  46.671820573700835\n"
     ]
    }
   ],
   "source": [
    "# Simple LGBM Regressor w/o tuning\n",
    "\n",
    "model = LGBMRegressor()\n",
    "model.fit(input_train, target_train)\n",
    "pred = model.predict(input_val)\n",
    "print(\"dinner mae: \", mean_absolute_error(pred, target_val))"
   ]
  },
  {
   "cell_type": "markdown",
   "id": "bbc1f226-cf4d-4ea2-952f-d94739280290",
   "metadata": {},
   "source": [
    "# Inference"
   ]
  },
  {
   "cell_type": "code",
   "execution_count": 13,
   "id": "bda3e17d-6354-4af0-9407-fe5081ddfccf",
   "metadata": {},
   "outputs": [],
   "source": [
    "# Inference\n",
    "test_pred_dinner = model.predict(x_test)\n",
    "submission_df = pd.read_csv('sample_submission.csv')\n",
    "submission_df['석식계'] = test_pred_dinner"
   ]
  },
  {
   "cell_type": "code",
   "execution_count": 14,
   "id": "c1db469f-7101-4495-95e8-96aa30146cef",
   "metadata": {},
   "outputs": [],
   "source": [
    "# Save\n",
    "submission_df.to_csv('submit.csv', index=False)"
   ]
  }
 ],
 "metadata": {
  "kernelspec": {
   "display_name": "Python 3",
   "language": "python",
   "name": "python3"
  },
  "language_info": {
   "codemirror_mode": {
    "name": "ipython",
    "version": 3
   },
   "file_extension": ".py",
   "mimetype": "text/x-python",
   "name": "python",
   "nbconvert_exporter": "python",
   "pygments_lexer": "ipython3",
   "version": "3.9.18"
  }
 },
 "nbformat": 4,
 "nbformat_minor": 5
}
