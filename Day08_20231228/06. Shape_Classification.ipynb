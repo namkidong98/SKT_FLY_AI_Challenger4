{
  "nbformat": 4,
  "nbformat_minor": 0,
  "metadata": {
    "colab": {
      "provenance": [],
      "gpuType": "T4"
    },
    "kernelspec": {
      "name": "python3",
      "display_name": "Python 3"
    },
    "language_info": {
      "name": "python"
    },
    "accelerator": "GPU"
  },
  "cells": [
    {
      "cell_type": "code",
      "execution_count": 1,
      "metadata": {
        "id": "Qh9yjAh--nrc"
      },
      "outputs": [],
      "source": [
        "import torch\n",
        "import torchvision\n",
        "from torchvision import datasets, models, transforms\n",
        "import torch.nn as nn\n",
        "import torch.optim as optim\n",
        "from torch.utils.data import DataLoader, random_split"
      ]
    },
    {
      "cell_type": "code",
      "source": [
        "# mount google drive\n",
        "from google.colab import drive\n",
        "drive.mount('/content/drive')"
      ],
      "metadata": {
        "colab": {
          "base_uri": "https://localhost:8080/"
        },
        "id": "I1GEUnwP_ej2",
        "outputId": "018845af-3028-4b2b-8bc4-eea2241cb2c0"
      },
      "execution_count": 2,
      "outputs": [
        {
          "output_type": "stream",
          "name": "stdout",
          "text": [
            "Drive already mounted at /content/drive; to attempt to forcibly remount, call drive.mount(\"/content/drive\", force_remount=True).\n"
          ]
        }
      ]
    },
    {
      "cell_type": "code",
      "source": [
        "data_dir = '/content/drive/MyDrive/shapes'"
      ],
      "metadata": {
        "id": "H5tJyEl__hGa"
      },
      "execution_count": 3,
      "outputs": []
    },
    {
      "cell_type": "code",
      "source": [
        "data_transforms = transforms.Compose([transforms.ToTensor(), # 우선 텐서로 바꿔주고\n",
        "                                transforms.Normalize((0.5, 0.5, 0.5), (0.5, 0.5, 0.5))]) # 정규화"
      ],
      "metadata": {
        "id": "oVSe5XXsCSKJ"
      },
      "execution_count": 4,
      "outputs": []
    },
    {
      "cell_type": "code",
      "source": [
        "full_dataset = datasets.ImageFolder(data_dir, transform=data_transforms)\n",
        "class_names = full_dataset.classes"
      ],
      "metadata": {
        "id": "VEUUtZCu_6P2"
      },
      "execution_count": 5,
      "outputs": []
    },
    {
      "cell_type": "code",
      "source": [
        "# Hyper-Parameter\n",
        "batch_size= 16\n",
        "max_pool_kernel = 2\n",
        "learning_rate = 0.0001\n",
        "num_epochs = 50"
      ],
      "metadata": {
        "id": "KkCsZ1mvFDnK"
      },
      "execution_count": 6,
      "outputs": []
    },
    {
      "cell_type": "code",
      "source": [
        "train_size = int(0.8 * len(full_dataset))\n",
        "valid_size = len(full_dataset) - train_size\n",
        "train_dataset, valid_dataset = random_split(full_dataset, [train_size, valid_size])\n",
        "\n",
        "train_loader = DataLoader(train_dataset, batch_size=batch_size, shuffle=True, num_workers=2)\n",
        "valid_loader = DataLoader(valid_dataset, batch_size=batch_size, shuffle=False, num_workers=2)"
      ],
      "metadata": {
        "id": "mIrBD6cZAic8"
      },
      "execution_count": 7,
      "outputs": []
    },
    {
      "cell_type": "code",
      "source": [
        "device = torch.device(\"cuda:0\" if torch.cuda.is_available() else \"cpu\")\n",
        "device"
      ],
      "metadata": {
        "colab": {
          "base_uri": "https://localhost:8080/"
        },
        "id": "f65_taRLAtxM",
        "outputId": "205416b4-7b8d-4fda-f271-fb5862806027"
      },
      "execution_count": 8,
      "outputs": [
        {
          "output_type": "execute_result",
          "data": {
            "text/plain": [
              "device(type='cuda', index=0)"
            ]
          },
          "metadata": {},
          "execution_count": 8
        }
      ]
    },
    {
      "cell_type": "code",
      "source": [
        "valid_dataset[0][0].shape"
      ],
      "metadata": {
        "colab": {
          "base_uri": "https://localhost:8080/"
        },
        "id": "xt-muRhVAv_K",
        "outputId": "d898370c-bd3a-4000-886d-2535db7af506"
      },
      "execution_count": 9,
      "outputs": [
        {
          "output_type": "execute_result",
          "data": {
            "text/plain": [
              "torch.Size([3, 28, 28])"
            ]
          },
          "metadata": {},
          "execution_count": 9
        }
      ]
    },
    {
      "cell_type": "code",
      "source": [
        "import matplotlib.pyplot as plt\n",
        "import numpy as np\n",
        "\n",
        "plt.figure(figsize=(15,10))\n",
        "target = 0\n",
        "for i in range(200):\n",
        "  image = valid_dataset[i][0]\n",
        "  label = valid_dataset[i][1]\n",
        "  if target == 3: break\n",
        "  if label == target:\n",
        "    image = torchvision.utils.make_grid(image)\n",
        "    image = image / 2 + 0.5     # unnormalize\n",
        "    npimg = image.numpy()\n",
        "\n",
        "    plt.subplot(1, 10, target+1)\n",
        "    plt.imshow(np.transpose(npimg, (1, 2, 0)))\n",
        "    plt.title(label)\n",
        "    plt.axis('off')\n",
        "    target += 1\n",
        "\n",
        "plt.show()"
      ],
      "metadata": {
        "colab": {
          "base_uri": "https://localhost:8080/",
          "height": 157
        },
        "id": "5SOmgPQtBOnl",
        "outputId": "246cd85c-c7ed-4ac4-844e-5818cfa936ba"
      },
      "execution_count": 10,
      "outputs": [
        {
          "output_type": "display_data",
          "data": {
            "text/plain": [
              "<Figure size 1500x1000 with 3 Axes>"
            ],
            "image/png": "[encoded data removed]"
          },
          "metadata": {}
        }
      ]
    },
    {
      "cell_type": "code",
      "source": [
        "import torch.nn.functional as F\n",
        "import torchsummary as summary # optional, to see model's summary\n",
        "\n",
        "class ConvNet(nn.Module):\n",
        "  def __init__(self, num_classes):\n",
        "    super(ConvNet, self).__init__()\n",
        "\n",
        "    self.layer1 = nn.Sequential(\n",
        "        nn.Conv2d(in_channels=3, out_channels=64, kernel_size=5, stride=1, padding=2),\n",
        "        nn.BatchNorm2d(64),\n",
        "        nn.ReLU(),\n",
        "        nn.MaxPool2d(max_pool_kernel)\n",
        "    )\n",
        "    self.layer2 = nn.Sequential(\n",
        "        nn.Conv2d(in_channels=64, out_channels=128, kernel_size=5, stride=1, padding=2),\n",
        "        nn.BatchNorm2d(128),\n",
        "        nn.ReLU(),\n",
        "        nn.MaxPool2d(max_pool_kernel)\n",
        "    )\n",
        "    self.fc1 = nn.Linear(7*7*128, 120)\n",
        "    self.fc2 = nn.Linear(120, 30)\n",
        "    self.fc3 = nn.Linear(30, num_classes)\n",
        "\n",
        "    self.dropout = nn.Dropout(0.2)\n",
        "\n",
        "  def forward(self, x):\n",
        "    x = self.layer1(x)\n",
        "    x = self.layer2(x)\n",
        "\n",
        "    x = x.reshape(x.size(0), -1) # flatten\n",
        "    x = F.relu(self.fc1(x))\n",
        "    x = self.dropout(x)\n",
        "    x = F.relu(self.fc2(x))\n",
        "    x = self.dropout(x)\n",
        "    x = F.sigmoid(self.fc3(x))\n",
        "    return x"
      ],
      "metadata": {
        "id": "Bn2fqrixBxtb"
      },
      "execution_count": 11,
      "outputs": []
    },
    {
      "cell_type": "code",
      "source": [
        "model = ConvNet(3).to(device)"
      ],
      "metadata": {
        "id": "c6_hbcf7DAGU"
      },
      "execution_count": 12,
      "outputs": []
    },
    {
      "cell_type": "code",
      "source": [
        "from torchsummary import summary\n",
        "summary(model, (3, 28, 28))"
      ],
      "metadata": {
        "colab": {
          "base_uri": "https://localhost:8080/"
        },
        "id": "SjKOjZmODFmj",
        "outputId": "1195506a-d4f6-455e-eeed-d0e5239a1cee"
      },
      "execution_count": 13,
      "outputs": [
        {
          "output_type": "stream",
          "name": "stdout",
          "text": [
            "----------------------------------------------------------------\n",
            "        Layer (type)               Output Shape         Param #\n",
            "================================================================\n",
            "            Conv2d-1           [-1, 64, 28, 28]           4,864\n",
            "       BatchNorm2d-2           [-1, 64, 28, 28]             128\n",
            "              ReLU-3           [-1, 64, 28, 28]               0\n",
            "         MaxPool2d-4           [-1, 64, 14, 14]               0\n",
            "            Conv2d-5          [-1, 128, 14, 14]         204,928\n",
            "       BatchNorm2d-6          [-1, 128, 14, 14]             256\n",
            "              ReLU-7          [-1, 128, 14, 14]               0\n",
            "         MaxPool2d-8            [-1, 128, 7, 7]               0\n",
            "            Linear-9                  [-1, 120]         752,760\n",
            "          Dropout-10                  [-1, 120]               0\n",
            "           Linear-11                   [-1, 30]           3,630\n",
            "          Dropout-12                   [-1, 30]               0\n",
            "           Linear-13                    [-1, 3]              93\n",
            "================================================================\n",
            "Total params: 966,659\n",
            "Trainable params: 966,659\n",
            "Non-trainable params: 0\n",
            "----------------------------------------------------------------\n",
            "Input size (MB): 0.01\n",
            "Forward/backward pass size (MB): 1.87\n",
            "Params size (MB): 3.69\n",
            "Estimated Total Size (MB): 5.57\n",
            "----------------------------------------------------------------\n"
          ]
        }
      ]
    },
    {
      "cell_type": "code",
      "source": [
        "criterion = nn.CrossEntropyLoss()\n",
        "optimizer = torch.optim.Adam(model.parameters(), lr=learning_rate)\n",
        "\n",
        "total_step = len(train_loader)\n",
        "loss_list = []\n",
        "\n",
        "for epoch in range(num_epochs):\n",
        "  for i, (images, labels) in enumerate(train_loader):\n",
        "    # Assign Tensors to Configured Device\n",
        "    images = images.to(device) # 데이터를 GPU에 올려준다\n",
        "    labels = labels.to(device)\n",
        "\n",
        "    outputs = model(images) # model을 통해 예측값 산출\n",
        "\n",
        "    loss = criterion(outputs, labels)\n",
        "    optimizer.zero_grad() # gradient를 초기화\n",
        "    loss.backward() # backward로 gradient 계산\n",
        "    optimizer.step() # graident update\n",
        "\n",
        "    loss_list.append(loss.detach().cpu().numpy()) # tensor인 loss를 cpu로 가져와서 numpy로 바꿔서 저장\n",
        "\n",
        "    if i == 0:\n",
        "      print(\"Epoch [{}/{}], Loss: {}\".format(epoch + 1, num_epochs, loss))\n",
        "  torch.save(model.state_dict(), 'model.pth') # pth 파일로 모델, 파라미터 등을 보기 쉽게 저장"
      ],
      "metadata": {
        "colab": {
          "base_uri": "https://localhost:8080/"
        },
        "id": "UJzJWFL-DQuf",
        "outputId": "68fd605b-aa4e-4b9c-ada5-cd4904630e03"
      },
      "execution_count": 14,
      "outputs": [
        {
          "output_type": "stream",
          "name": "stdout",
          "text": [
            "Epoch [1/50], Loss: 1.0864051580429077\n",
            "Epoch [2/50], Loss: 1.0937801599502563\n",
            "Epoch [3/50], Loss: 1.0417457818984985\n",
            "Epoch [4/50], Loss: 0.9390372037887573\n",
            "Epoch [5/50], Loss: 0.8864369988441467\n",
            "Epoch [6/50], Loss: 0.949173629283905\n",
            "Epoch [7/50], Loss: 0.837861955165863\n",
            "Epoch [8/50], Loss: 0.7880043983459473\n",
            "Epoch [9/50], Loss: 0.7148982286453247\n",
            "Epoch [10/50], Loss: 0.7545079588890076\n",
            "Epoch [11/50], Loss: 0.6664798855781555\n",
            "Epoch [12/50], Loss: 0.6667471528053284\n",
            "Epoch [13/50], Loss: 0.6287415027618408\n",
            "Epoch [14/50], Loss: 0.6493704915046692\n",
            "Epoch [15/50], Loss: 0.6509431600570679\n",
            "Epoch [16/50], Loss: 0.643131673336029\n",
            "Epoch [17/50], Loss: 0.7113003134727478\n",
            "Epoch [18/50], Loss: 0.6312906742095947\n",
            "Epoch [19/50], Loss: 0.5816735029220581\n",
            "Epoch [20/50], Loss: 0.616592526435852\n",
            "Epoch [21/50], Loss: 0.5730457901954651\n",
            "Epoch [22/50], Loss: 0.6108232736587524\n",
            "Epoch [23/50], Loss: 0.5623441338539124\n",
            "Epoch [24/50], Loss: 0.584029495716095\n",
            "Epoch [25/50], Loss: 0.5903710126876831\n",
            "Epoch [26/50], Loss: 0.5711815357208252\n",
            "Epoch [27/50], Loss: 0.6014130115509033\n",
            "Epoch [28/50], Loss: 0.595544159412384\n",
            "Epoch [29/50], Loss: 0.5563215613365173\n",
            "Epoch [30/50], Loss: 0.5638729333877563\n",
            "Epoch [31/50], Loss: 0.5628564953804016\n",
            "Epoch [32/50], Loss: 0.5615447163581848\n",
            "Epoch [33/50], Loss: 0.5640178322792053\n",
            "Epoch [34/50], Loss: 0.5793803334236145\n",
            "Epoch [35/50], Loss: 0.57332843542099\n",
            "Epoch [36/50], Loss: 0.5683803558349609\n",
            "Epoch [37/50], Loss: 0.5642691850662231\n",
            "Epoch [38/50], Loss: 0.5632908344268799\n",
            "Epoch [39/50], Loss: 0.5579968690872192\n",
            "Epoch [40/50], Loss: 0.5645748376846313\n",
            "Epoch [41/50], Loss: 0.5844733715057373\n",
            "Epoch [42/50], Loss: 0.5657110810279846\n",
            "Epoch [43/50], Loss: 0.5569308400154114\n",
            "Epoch [44/50], Loss: 0.5629825592041016\n",
            "Epoch [45/50], Loss: 0.5551755428314209\n",
            "Epoch [46/50], Loss: 0.5586626529693604\n",
            "Epoch [47/50], Loss: 0.5555034279823303\n",
            "Epoch [48/50], Loss: 0.5546476244926453\n",
            "Epoch [49/50], Loss: 0.5553745031356812\n",
            "Epoch [50/50], Loss: 0.5524402856826782\n"
          ]
        }
      ]
    },
    {
      "cell_type": "code",
      "source": [
        "model.eval()\n",
        "with torch.no_grad(): # auto_grad off\n",
        "  correct = 0\n",
        "  total = 0\n",
        "  for images, labels in valid_loader:\n",
        "    images = images.to(device)\n",
        "    labels = labels.to(device)\n",
        "    outputs = model(images)\n",
        "\n",
        "    t, predicted = torch.max(outputs.data, 1)\n",
        "\n",
        "    total += labels.size(0)\n",
        "    correct += (predicted == labels).sum().item()\n",
        "\n",
        "  print('Accuracy of the network on the {} test images {}%'.format(len(valid_loader)*batch_size, 100*correct/total))"
      ],
      "metadata": {
        "colab": {
          "base_uri": "https://localhost:8080/"
        },
        "id": "QqtmJNboDg-R",
        "outputId": "b7ec686a-f583-4f2b-be3f-6012823b2f82"
      },
      "execution_count": 15,
      "outputs": [
        {
          "output_type": "stream",
          "name": "stdout",
          "text": [
            "Accuracy of the network on the 64 test images 93.33333333333333%\n"
          ]
        }
      ]
    },
    {
      "cell_type": "code",
      "source": [
        "plt.plot(loss_list)\n",
        "plt.title(\"Shape Classification CNN loss example\")\n",
        "plt.show()"
      ],
      "metadata": {
        "colab": {
          "base_uri": "https://localhost:8080/",
          "height": 452
        },
        "id": "5o0nNWWqD_KV",
        "outputId": "a7cd4e9a-ba25-43ea-abe4-d75c01ade74f"
      },
      "execution_count": 16,
      "outputs": [
        {
          "output_type": "display_data",
          "data": {
            "text/plain": [
              "<Figure size 640x480 with 1 Axes>"
            ],
            "image/png": "[encoded data removed]"
          },
          "metadata": {}
        }
      ]
    }
  ]
}